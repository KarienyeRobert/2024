{
  "nbformat": 4,
  "nbformat_minor": 0,
  "metadata": {
    "colab": {
      "provenance": [],
      "authorship_tag": "ABX9TyPokIOV5FjoBXx3U+q1r0hp",
      "include_colab_link": true
    },
    "kernelspec": {
      "name": "python3",
      "display_name": "Python 3"
    },
    "language_info": {
      "name": "python"
    }
  },
  "cells": [
    {
      "cell_type": "markdown",
      "metadata": {
        "id": "view-in-github",
        "colab_type": "text"
      },
      "source": [
        "<a href=\"https://colab.research.google.com/github/KarienyeRobert/2024/blob/main/roots.ipynb\" target=\"_parent\"><img src=\"https://colab.research.google.com/assets/colab-badge.svg\" alt=\"Open In Colab\"/></a>"
      ]
    },
    {
      "cell_type": "markdown",
      "source": [
        "**Algorithms to determine the roots of a quadratic equation using:**"
      ],
      "metadata": {
        "id": "Q2CLVWYYGNn_"
      }
    },
    {
      "cell_type": "markdown",
      "source": [
        "a)Bisection Method:\n"
      ],
      "metadata": {
        "id": "o03O3JleGctg"
      }
    },
    {
      "cell_type": "code",
      "source": [
        "def f(x,a,b,c):\n",
        "  return a*x**2+b*x+c\n",
        "\n",
        "def bisection(a,b,c,lower,upper,tol,max_iter):\n",
        "  print('No roots foundin the given interval.')\n",
        "  return None\n",
        "\n",
        "  iter_count=0\n",
        "  while(upper-lower)/2>tol and iter_count<max_iter:\n",
        "    midpoint = (lower + upper)/2\n",
        "    if f(midpoint,a,b,c)==0:\n",
        "      return midpoint\n",
        "    elif f(lower,a,b,c)*f(midpoint,a,b,c)<0:\n",
        "      upper=midpoint\n",
        "    else:\n",
        "      lower=midpoint\n",
        "    iter_count += 1\n",
        "    return (lower + upper)/2\n",
        "\n",
        "a= float(input('Enter the value of a:'))\n",
        "b= float(input('Enter the value of b:'))\n",
        "c= float(input('Enter the value of c:'))\n",
        "lower= float(input('Enter the value of lower:'))\n",
        "upper= float(input('Enter the value of upper:'))\n",
        "tol= float(input('Enter the value of tol:'))\n",
        "max_iter= float(input('Enter the value of max_iter:'))\n",
        "\n",
        "root=bisection(a,b,c,lower,upper,tol,max_iter)\n",
        "if root is not None:\n",
        "  print('Root Founf:',root)"
      ],
      "metadata": {
        "colab": {
          "base_uri": "https://localhost:8080/"
        },
        "id": "VZuHr68PGomO",
        "outputId": "3b07b8f0-880b-4db2-f9c8-d8886d31fec4"
      },
      "execution_count": null,
      "outputs": [
        {
          "output_type": "stream",
          "name": "stdout",
          "text": [
            "Enter the value of a:10\n",
            "Enter the value of b:30\n",
            "Enter the value of c:50\n",
            "Enter the value of lower:5\n",
            "Enter the value of upper:60\n",
            "Enter the value of tol:90\n",
            "Enter the value of max_iter:40\n",
            "No roots foundin the given interval.\n"
          ]
        }
      ]
    },
    {
      "cell_type": "markdown",
      "source": [
        "b) Regular Falsi Method"
      ],
      "metadata": {
        "id": "uxzh9_dkJRJ2"
      }
    },
    {
      "cell_type": "code",
      "source": [
        "def regular_falsi(a,b,c,lower,upper,tol,max_iter):\n",
        "  if f(lower,a,b,c)*f(upper,a,b,c)>=0:\n",
        "   print('No roots found in the given interval.')\n",
        "   return None\n",
        "\n",
        "   iter_count=0\n",
        "   while iter_count<max_iter:\n",
        "    midpoint = (lower*f(upper,a,b,c)-upper*f(lower,a,b,c)/f(upper,a,b,c)-f(lower,a,b,c))\n",
        "    if abs (f(midpoint,a,b,c))<tol:\n",
        "      return midpoint\n",
        "      if f(lower,a,b,c)*f(midpoint,a,b,c)<0:\n",
        "        upper= midpoint\n",
        "      else:\n",
        "        lower = midpoint\n",
        "      iter_count += 1\n",
        "\n",
        "  return midpoint\n",
        "a= float(input('Enter the value of a:'))\n",
        "b= float(input('Enter the value of b:'))\n",
        "c= float(input('Enter the value of c:'))\n",
        "lower= float(input('Enter the value of lower:'))\n",
        "upper= float(input('Enter the value of upper:'))\n",
        "tol= float(input('Enter the value of tol:'))\n",
        "max_iter= float(input('Enter the value of max_iter:'))\n",
        "\n",
        "root= regular_falsi(a,b,c,lower,upper,tol,max_iter)\n",
        "if root is not None:\n",
        "  print('Root Found:',root)\n"
      ],
      "metadata": {
        "colab": {
          "base_uri": "https://localhost:8080/"
        },
        "id": "a1KdiYxLJV3b",
        "outputId": "5f18c5b3-755d-44d0-e5df-01d4eb84d4c1"
      },
      "execution_count": null,
      "outputs": [
        {
          "output_type": "stream",
          "name": "stdout",
          "text": [
            "Enter the value of a:10\n",
            "Enter the value of b:30\n",
            "Enter the value of c:60\n",
            "Enter the value of lower:10\n",
            "Enter the value of upper:60\n",
            "Enter the value of tol:300\n",
            "Enter the value of max_iter:5\n",
            "No roots found in the given interval.\n"
          ]
        }
      ]
    },
    {
      "cell_type": "markdown",
      "source": [
        "c)Newton-Raphson Method:"
      ],
      "metadata": {
        "id": "lnfE2DWJNC23"
      }
    },
    {
      "cell_type": "code",
      "source": [
        "def derivative(x, a, b):\n",
        "    return 2 * a * x + b\n",
        "\n",
        "def newton_raphson(a, b, c, initial_guess, tol, max_iter):\n",
        "    x0 = initial_guess\n",
        "    iter_count = 0\n",
        "    while abs(f(x0, a, b, c)) > tol and iter_count < max_iter:\n",
        "        x0 = x0 - f(x0, a, b, c) / derivative(x0, a, b)\n",
        "        iter_count += 1\n",
        "    return x0\n",
        "\n",
        "a= float(input('Enter the value of a:'))\n",
        "b= float(input('Enter the value of b:'))\n",
        "c= float(input('Enter the value of c:'))\n",
        "initial_guess= float(input('Enter the value of initial_guess:'))\n",
        "tol= float(input('Enter the value of tol:'))\n",
        "max_iter= float(input('Enter the value of max_iter:'))\n",
        "\n",
        "\n",
        "root = newton_raphson(a, b, c, initial_guess, tol, max_iter)\n",
        "print(\"Root found:\", root)\n"
      ],
      "metadata": {
        "colab": {
          "base_uri": "https://localhost:8080/"
        },
        "id": "BGQtUdo8NJb0",
        "outputId": "325b671a-05e7-4c7e-e7b4-ba58e5d434dd"
      },
      "execution_count": null,
      "outputs": [
        {
          "output_type": "stream",
          "name": "stdout",
          "text": [
            "Enter the value of a:500\n",
            "Enter the value of b:700\n",
            "Enter the value of c:1000\n",
            "Enter the value of initial_guess:400\n",
            "Enter the value of tol:10000\n",
            "Enter the value of max_iter:100\n",
            "Root found: 2.268017542635948\n"
          ]
        }
      ]
    },
    {
      "cell_type": "markdown",
      "source": [
        "d)Secant Method:"
      ],
      "metadata": {
        "id": "hLXwqijjN8ac"
      }
    },
    {
      "cell_type": "code",
      "source": [
        "def secant(a, b, c, x0, x1, tol, max_iter):\n",
        "    iter_count = 0\n",
        "    while abs(f(x1, a, b, c)) > tol and iter_count < max_iter:\n",
        "        x_next = x1 - f(x1, a, b, c) * (x1 - x0) / (f(x1, a, b, c) - f(x0, a, b, c))\n",
        "        x0 = x1\n",
        "        x1 = x_next\n",
        "        iter_count += 1\n",
        "    return x1\n",
        "\n",
        "a= float(input('Enter the value of a:'))\n",
        "b= float(input('Enter the value of b:'))\n",
        "c= float(input('Enter the value of c:'))\n",
        "x0= float(input('Enter the value of x0:'))\n",
        "x1= float(input('Enter the value of x1:'))\n",
        "tol= float(input('Enter the value of tol:'))\n",
        "max_iter= float(input('Enter the value of max_iter:'))\n",
        "\n",
        "root = secant(a, b, c, x0, x1, tol, max_iter)\n",
        "print(\"Root found:\", root)\n"
      ],
      "metadata": {
        "colab": {
          "base_uri": "https://localhost:8080/"
        },
        "id": "Zvn9vQRCOBKC",
        "outputId": "946d18df-9c05-4e33-8efd-e825a6b0ea80"
      },
      "execution_count": null,
      "outputs": [
        {
          "output_type": "stream",
          "name": "stdout",
          "text": [
            "Enter the value of a:50\n",
            "Enter the value of b:10000\n",
            "Enter the value of c:300000\n",
            "Enter the value of x0:400\n",
            "Enter the value of x1:500\n",
            "Enter the value of tol:1000000\n",
            "Enter the value of max_iter:100\n",
            "Root found: 22.416034147985286\n"
          ]
        }
      ]
    }
  ]
}