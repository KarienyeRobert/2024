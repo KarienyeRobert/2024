{
  "cells": [
    {
      "cell_type": "markdown",
      "metadata": {
        "id": "view-in-github",
        "colab_type": "text"
      },
      "source": [
        "<a href=\"https://colab.research.google.com/github/KarienyeRobert/2024/blob/main/Numerical_Analysis.ipynb\" target=\"_parent\"><img src=\"https://colab.research.google.com/assets/colab-badge.svg\" alt=\"Open In Colab\"/></a>"
      ]
    },
    {
      "cell_type": "markdown",
      "source": [
        "**Numerical Analysis**"
      ],
      "metadata": {
        "id": "N0vgrkKOKXdu"
      }
    },
    {
      "cell_type": "markdown",
      "source": [
        "**Jacobi Iteration** Algorithm\n",
        "\n",
        "A simple code to show the implementation of The Jacobi Iteration Algorithm"
      ],
      "metadata": {
        "id": "bZ55xxv5K89W"
      }
    },
    {
      "cell_type": "code",
      "source": [
        "f1 = lambda x,y,z: (17-y+2*z)/20\n",
        "f2 = lambda x,y,z: (-18-3*x+z)/20\n",
        "f3 = lambda x,y,z: (25-2*x+3*y)/20\n",
        "\n",
        "# Initial setup\n",
        "x0 = 0\n",
        "y0 = 0\n",
        "z0 = 0\n",
        "count = 1\n",
        "\n",
        "# Reading tolerable error\n",
        "e = 0.5\n",
        "\n",
        "# Implementation of Jacobi Iteration\n",
        "print('\\nCount\\tx\\ty\\tz\\n')\n",
        "\n",
        "condition = True\n",
        "\n",
        "while condition:\n",
        "    x1 = f1(x0,y0,z0)\n",
        "    y1 = f2(x0,y0,z0)\n",
        "    z1 = f3(x0,y0,z0)\n",
        "    print('%d\\t%0.4f\\t%0.4f\\t%0.4f\\n' %(count, x1,y1,z1))\n",
        "    e1 = abs(x0-x1);\n",
        "    e2 = abs(y0-y1);\n",
        "    e3 = abs(z0-z1);\n",
        "\n",
        "    count += 1\n",
        "    x0 = x1\n",
        "    y0 = y1\n",
        "    z0 = z1\n",
        "\n",
        "    condition = e1>e and e2>e and e3>e\n",
        "\n",
        "print('\\nSolution: x=%0.3f, y=%0.3f and z = %0.3f\\n'% (x1,y1,z1))\n"
      ],
      "metadata": {
        "colab": {
          "base_uri": "https://localhost:8080/"
        },
        "id": "qUyGpveoQqqc",
        "outputId": "a7054e4f-907a-4032-90da-67835403d764"
      },
      "execution_count": 3,
      "outputs": [
        {
          "output_type": "stream",
          "name": "stdout",
          "text": [
            "\n",
            "Count\tx\ty\tz\n",
            "\n",
            "1\t0.8500\t-0.9000\t1.2500\n",
            "\n",
            "2\t1.0200\t-0.9650\t1.0300\n",
            "\n",
            "\n",
            "Solution: x=1.020, y=-0.965 and z = 1.030\n",
            "\n"
          ]
        }
      ]
    },
    {
      "cell_type": "markdown",
      "source": [
        "Jacobi iteration to solve the following equation:\n",
        "\n",
        "```\n",
        "2x1+x2+x3 = 5\n",
        "3x1+5x2+2x3 = 15\n",
        "2x1+x2+4x3 = 8\n",
        "```"
      ],
      "metadata": {
        "id": "aoDgC1r5R_qv"
      }
    },
    {
      "cell_type": "code",
      "source": [
        "f1 = lambda x1, x2, x3: (5-x2+x3)/2\n",
        "f2 = lambda x1, x2, x3: (15-3*x1+2*x3)/5\n",
        "f3 = lambda x1, x2, x3: (8-2*x1+x2)/5\n",
        "\n",
        "\n",
        "x1= 0\n",
        "x2= 0\n",
        "x3= 0\n",
        "\n",
        "e=0.2\n",
        "\n",
        "print('\\nCount\\tx\\ty\\tz\\n')\n",
        "\n",
        "condition = True\n",
        "\n",
        "while condition:\n",
        "  x = f1(x1,x2, x3);\n",
        "  y = f2(x1,x2, x3);\n",
        "  z = f3(x1,x2, x3);\n",
        "  print('%d\\t%0.4f\\t%0.4f\\t%0.4f\\n' %(count, x1,x2,x3))\n",
        "  e1 = abs(x1-x);\n",
        "  e2 = abs(x2-y);\n",
        "  e3 = abs(x3-z);\n",
        "\n",
        "  count+= 1\n",
        "  x1 = x\n",
        "  x2 = y\n",
        "  x3 = z\n",
        "\n",
        "  condition = e1>e and e2>e and e3>e\n",
        "\n",
        "print('\\nSolution: x=%0.3f, y=%0.3f and z = %0.3f\\n'% (x1,x2,x3))\n",
        "\n"
      ],
      "metadata": {
        "colab": {
          "base_uri": "https://localhost:8080/"
        },
        "id": "TsG0bGNUTDkY",
        "outputId": "e3dd2f98-15dc-488e-e3ce-e4fb9f632585"
      },
      "execution_count": 7,
      "outputs": [
        {
          "output_type": "stream",
          "name": "stdout",
          "text": [
            "\n",
            "Count\tx\ty\tz\n",
            "\n",
            "11\t0.0000\t0.0000\t0.0000\n",
            "\n",
            "12\t2.5000\t3.0000\t1.6000\n",
            "\n",
            "13\t1.8000\t2.1400\t1.2000\n",
            "\n",
            "\n",
            "Solution: x=2.030, y=2.400 and z = 1.308\n",
            "\n"
          ]
        }
      ]
    },
    {
      "cell_type": "markdown",
      "source": [
        "**Gauss Seldel Algorithm**\n",
        "\n",
        "A simple code to show the implementation of The Gauss Seldel Algorithm\n"
      ],
      "metadata": {
        "id": "q-zxpN8DaEMo"
      }
    },
    {
      "cell_type": "code",
      "source": [
        "f1 = lambda x,y,z: (17-y+2*z)/20\n",
        "f2 = lambda x,y,z: (-18-3*x+z)/20\n",
        "f3 = lambda x,y,z: (25-2*x+3*y)/20\n",
        "\n",
        "# Initial setup\n",
        "x0 = 0\n",
        "y0 = 0\n",
        "z0 = 0\n",
        "count = 1\n",
        "\n",
        "# Reading tolerable error\n",
        "e = float(input('Enter tolerable error: '))\n",
        "\n",
        "# Implementation of Gauss Seidel Iteration\n",
        "print('\\nCount\\tx\\ty\\tz\\n')\n",
        "\n",
        "condition = True\n",
        "\n",
        "while condition:\n",
        "    x1 = f1(x0,y0,z0)\n",
        "    y1 = f2(x1,y0,z0)\n",
        "    z1 = f3(x1,y1,z0)\n",
        "    print('%d\\t%0.4f\\t%0.4f\\t%0.4f\\n' %(count, x1,y1,z1))\n",
        "    e1 = abs(x0-x1);\n",
        "    e2 = abs(y0-y1);\n",
        "    e3 = abs(z0-z1);\n",
        "\n",
        "    count += 1\n",
        "    x0 = x1\n",
        "    y0 = y1\n",
        "    z0 = z1\n",
        "\n",
        "    condition = e1>e and e2>e and e3>e\n",
        "\n",
        "print('\\nSolution: x=%0.3f, y=%0.3f and z = %0.3f\\n'% (x1,y1,z1))\n"
      ],
      "metadata": {
        "colab": {
          "base_uri": "https://localhost:8080/"
        },
        "id": "hC1YYSY9aepx",
        "outputId": "3b972ec7-79a1-4ebf-88ea-d018e672658c"
      },
      "execution_count": 10,
      "outputs": [
        {
          "output_type": "stream",
          "name": "stdout",
          "text": [
            "Enter tolerable error: 0\n",
            "\n",
            "Count\tx\ty\tz\n",
            "\n",
            "1\t0.8500\t-1.0275\t1.0109\n",
            "\n",
            "2\t1.0025\t-0.9998\t0.9998\n",
            "\n",
            "3\t1.0000\t-1.0000\t1.0000\n",
            "\n",
            "4\t1.0000\t-1.0000\t1.0000\n",
            "\n",
            "5\t1.0000\t-1.0000\t1.0000\n",
            "\n",
            "6\t1.0000\t-1.0000\t1.0000\n",
            "\n",
            "7\t1.0000\t-1.0000\t1.0000\n",
            "\n",
            "8\t1.0000\t-1.0000\t1.0000\n",
            "\n",
            "9\t1.0000\t-1.0000\t1.0000\n",
            "\n",
            "10\t1.0000\t-1.0000\t1.0000\n",
            "\n",
            "\n",
            "Solution: x=1.000, y=-1.000 and z = 1.000\n",
            "\n"
          ]
        }
      ]
    },
    {
      "cell_type": "markdown",
      "source": [
        "**Gauss Seldel Algorithm** to solve the following equation:\n",
        "\n",
        "```\n",
        "2x1+x2+x3 = 5\n",
        "3x1+5x2+2x3 = 15\n",
        "2x1+x2+4x3 = 8\n",
        "```"
      ],
      "metadata": {
        "id": "gKtItq25fKUn"
      }
    },
    {
      "cell_type": "code",
      "source": [],
      "metadata": {
        "id": "0Bo8ogkdfnxJ"
      },
      "execution_count": null,
      "outputs": []
    }
  ],
  "metadata": {
    "colab": {
      "provenance": [],
      "toc_visible": true,
      "include_colab_link": true
    },
    "kernelspec": {
      "display_name": "Python 3",
      "name": "python3"
    }
  },
  "nbformat": 4,
  "nbformat_minor": 0
}